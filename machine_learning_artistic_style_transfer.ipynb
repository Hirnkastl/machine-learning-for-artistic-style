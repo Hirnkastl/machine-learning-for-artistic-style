{
  "nbformat": 4,
  "nbformat_minor": 0,
  "metadata": {
    "colab": {
      "name": "machine-learning-artistic-style-transfer.ipynb",
      "version": "0.3.2",
      "provenance": [],
      "private_outputs": true,
      "collapsed_sections": [],
      "include_colab_link": true
    },
    "kernelspec": {
      "name": "python3",
      "display_name": "Python 3"
    },
    "accelerator": "GPU"
  },
  "cells": [
    {
      "cell_type": "markdown",
      "metadata": {
        "id": "view-in-github",
        "colab_type": "text"
      },
      "source": [
        "<a href=\"https://colab.research.google.com/github/shellerbrand/machine-learning-for-artistic-style/blob/master/machine_learning_artistic_style_transfer.ipynb\" target=\"_parent\"><img src=\"https://colab.research.google.com/assets/colab-badge.svg\" alt=\"Open In Colab\"/></a>"
      ]
    },
    {
      "metadata": {
        "id": "KxYzWnjJr86x",
        "colab_type": "text"
      },
      "cell_type": "markdown",
      "source": [
        "# Transfer von Bildstilen mit Neuronalen Netzen\n",
        "\n",
        "In diesem Notebook nutzen wir isolierte Teile aus dem Repository des Projekts Google Magenta.\n",
        "\n",
        "__Referenzen:__ \n",
        "\n",
        "Google Magenta: Fast Style Transfer for Arbitrary Styles, [Github](https://github.com/tensorflow/magenta/blob/2c3ae9b0dd64b06295e48e2ee5654e3d207035fc/magenta/models/arbitrary_image_stylization/README.md)  \n",
        "Ghiasi, G. et al.; \n",
        "Exploring the structure of a real-time, arbitrary neural artistic stylization network\n",
        "Golnaz Ghiasi, Aug 2017, [arxiv](https://arxiv.org/abs/1705.06830)\n"
      ]
    },
    {
      "metadata": {
        "id": "5tbnXXX2sNYx",
        "colab_type": "code",
        "cellView": "form",
        "colab": {}
      },
      "cell_type": "code",
      "source": [
        "#@title Die benötigten Modelle und den Stil-Transfer Code in die Laufzeitumgebung kopieren.\n",
        "!curl https://raw.githubusercontent.com/shellerbrand/machine-learning-for-artistic-style/master/dist/stylization-lib.tar.gz -o image-stylization-lib.tar.gz\n",
        "# The Model can be downloaded as per Google Magenta project\n",
        "!curl https://storage.googleapis.com/download.magenta.tensorflow.org/models/arbitrary_style_transfer.tar.gz -o image-stylization-checkpoint.tar.gz\n",
        "!tar -zxvf image-stylization-lib.tar.gz\n",
        "!tar -zxvf image-stylization-checkpoint.tar.gz"
      ],
      "execution_count": 0,
      "outputs": []
    },
    {
      "metadata": {
        "id": "8HPnqEClr86y",
        "colab_type": "code",
        "cellView": "form",
        "colab": {}
      },
      "cell_type": "code",
      "source": [
        "#@title Hilfs-Funktionen laden (werden für Laden und Anzeigen der Bilder benötigt)\n",
        "\n",
        "# \n",
        "# Funktionen um Bilder zu laden vom Image-Upload Tool\n",
        "#\n",
        "\n",
        "print('Laden von Funktionen zum Laden der Stil und Inhaltsbilder.')\n",
        "\n",
        "import requests\n",
        "import os\n",
        "import shutil\n",
        "\n",
        "HOST = 'https://imageupload.hellerbit.com'\n",
        "API_KEY = 'bce8a814f0b3882ac6f2810464128b42dbfee105e1ba84311a77b3f4'\n",
        "DIR = './tmp/'\n",
        "EXP_CONTENT = '2_inhalt'\n",
        "EXP_STYLE = '2_stil'\n",
        "OUTDIR = './output/'\n",
        "\n",
        "\n",
        "if not os.path.isdir(DIR):\n",
        "    print('Making the directory: {}'.format(DIR))\n",
        "    os.makedirs(DIR)\n",
        "\n",
        "def clear_output():\n",
        "    if os.path.isdir(OUTDIR):\n",
        "        shutil.rmtree(OUTDIR)\n",
        "        os.mkdir(OUTDIR)\n",
        "\n",
        "def clear_experiment(experiment_id):\n",
        "    expdir = os.path.join(DIR, experiment_id)\n",
        "    if os.path.isdir(expdir):\n",
        "        shutil.rmtree(expdir)\n",
        "\n",
        "def download_experiment_images(experiment_id):\n",
        "    url = ''.join([HOST, '/api/{}/all.txt'.format(experiment_id)])\n",
        "    headers = {'APIKEY': API_KEY}\n",
        "    resp = requests.get(url, headers=headers)\n",
        "\n",
        "    print(resp.text)\n",
        "    files = resp.text.split('\\n')\n",
        "    # Make the directory for the experiment\n",
        "    expdir = os.path.join(DIR, experiment_id)\n",
        "    if not os.path.isdir(expdir):\n",
        "            os.makedirs(expdir)\n",
        "\n",
        "    for line in files:\n",
        "        print(\"Loading this file: {}\".format(line))\n",
        "        url = ''.join([HOST, '/api/{}/{}'.format(experiment_id, line)])\n",
        "        path = os.path.join(expdir, line)\n",
        "        print(\"\\t from URL {}\".format(url))\n",
        "        r = requests.get(url, stream=True, headers=headers)\n",
        "        if r.status_code == 200:\n",
        "            with open(path, 'wb') as f:\n",
        "                for chunk in r:\n",
        "                    f.write(chunk)\n",
        "                    \n",
        "#\n",
        "# Funktionen zur Anzeige von Bildern laden\n",
        "#\n",
        "\n",
        "print('Laden von Funktionen zum Anzeigen von Bildern.')\n",
        "# Configuration of matplotlib\n",
        "import matplotlib.pyplot as plt\n",
        "import matplotlib as mpl\n",
        "mpl.rcParams['figure.figsize'] = (10,10)\n",
        "mpl.rcParams['axes.grid'] = False\n",
        "\n",
        "# python image library, numpy etc.\n",
        "import numpy as np\n",
        "from PIL import Image\n",
        "import time\n",
        "import functools\n",
        "\n",
        "from tensorflow.python.keras.preprocessing import image as kp_image\n",
        "\n",
        "# Helper function for loading images from a path\n",
        "def load_img(path_to_img):\n",
        "  max_dim = 1024\n",
        "  img = Image.open(path_to_img)\n",
        "  long = max(img.size)\n",
        "  scale = max_dim/long\n",
        "  img = img.resize((round(img.size[0]*scale), round(img.size[1]*scale)), \n",
        "                   Image.ANTIALIAS)\n",
        "  \n",
        "  img = kp_image.img_to_array(img)\n",
        "  \n",
        "  # We need to broadcast the image array such that it has a batch dimension \n",
        "  img = np.expand_dims(img, axis=0)\n",
        "  return img\n",
        "\n",
        "# Helper function for showing an image object (as per PIL)\n",
        "def imshow(img, title=None):\n",
        "  # Remove the batch dimension\n",
        "  out = np.squeeze(img, axis=0)\n",
        "  # Normalize for display \n",
        "  out = out.astype('uint8')\n",
        "  plt.imshow(out)\n",
        "  if title is not None:\n",
        "    plt.title(title)\n",
        "  plt.axis('off')\n",
        "  plt.imshow(out)\n",
        "  \n",
        "\n",
        "print('Erledigt.')"
      ],
      "execution_count": 0,
      "outputs": []
    },
    {
      "metadata": {
        "id": "9K7v2hAAr862",
        "colab_type": "text"
      },
      "cell_type": "markdown",
      "source": [
        "---\n",
        "\n",
        "\n",
        "## Bilder Laden\n",
        "\n",
        "Hier werden die Bilder für unser neurales Stil-Umwandlungsnetzwerk geladen. Ihr könnt anpassen, welche Bilder als Vorlage für den Stil dienen sollen. Diese __Stilbilder__  könnt Ihr z.B. mit dem Handy auf folgendem Link hochladen:\n",
        "\n",
        "https://imageupload.hellerbit.com/images/2_stil/\n",
        "\n",
        "Die __Inhaltsbilder__, auf die der Stil angewandt wird, können auf \n",
        "\n",
        "https://imageupload.hellerbit.com/images/2_inhalt/\n",
        "\n",
        "hochgeladen werden.\n"
      ]
    },
    {
      "metadata": {
        "id": "w8toep0Kr862",
        "colab_type": "text"
      },
      "cell_type": "markdown",
      "source": [
        "Nun bitte den Schlüssel eingeben, mit dem die Bilder geladen werden:"
      ]
    },
    {
      "metadata": {
        "id": "_kyOe2cXr864",
        "colab_type": "code",
        "cellView": "form",
        "colab": {}
      },
      "cell_type": "code",
      "source": [
        "#@title Den Schlüssel zum Download der Bilder hier eingeben\n",
        "API_KEY = \"3c7f5f9a4d227972f0989cb7c1be7ad0835990d03f84ed8efbae839a\" #@param {type:\"string\"}\n",
        "clear_experiment(EXP_CONTENT)\n",
        "clear_experiment(EXP_STYLE)\n",
        "clear_output()\n",
        "download_experiment_images(EXP_CONTENT)\n",
        "download_experiment_images(EXP_STYLE)"
      ],
      "execution_count": 0,
      "outputs": []
    },
    {
      "metadata": {
        "id": "5wptVGUt7Zze",
        "colab_type": "text"
      },
      "cell_type": "markdown",
      "source": [
        "## Bildstile Übertragen\n",
        "\n",
        "Jetzt können die Bildstile übertragen werden. Dabei  nutzen wir die Netzwerke, die im Google Projekt Magenta bereits vortrainiert wurden. \n",
        "\n",
        "Für jedes __Stilbild__ wird zunächst ein Vektor ermittelt, der den Stil des Bildes beschreibt. Im Anschluss wird dieser Vektor an das Stiltransfer-Netz übergeben, das diesen Stil dem __Inhaltsbild__ aufprägt.\n",
        "\n",
        "Dieses Verfahren wird für alle Kombinationen aus Stil- and Inhaltsbild, die im vorherigen Schritt hochgeladen wurden, wiederholt."
      ]
    },
    {
      "metadata": {
        "scrolled": true,
        "id": "iXlSva7Hr867",
        "colab_type": "code",
        "cellView": "form",
        "colab": {}
      },
      "cell_type": "code",
      "source": [
        "#@title Umwandlung starten\n",
        "from lib.arbitrary_image_stylization_with_weights_func import arbitrary_stylization_with_weights, StyleTransferConfig\n",
        "# from lib.arbitrary_image_stylization_with_weights import main as dostyle\n",
        "import tensorflow as tf\n",
        "\n",
        "c = StyleTransferConfig()\n",
        "c.content_images_paths = os.path.join(DIR,'2_inhalt/*')\n",
        "c.output_dir = OUTDIR\n",
        "c.style_images_paths = os.path.join(DIR,'2_stil/*')\n",
        "c.checkpoint = './arbitrary_style_transfer/model.ckpt'\n",
        "c.image_size = 512\n",
        "c.style_image_size = 256\n",
        "print(c)\n",
        "\n",
        "with tf.device('/gpu:0'):\n",
        "  arbitrary_stylization_with_weights(c)\n",
        "\n",
        "print(\"\\nErledigt.\")"
      ],
      "execution_count": 0,
      "outputs": []
    },
    {
      "metadata": {
        "id": "PpHk--79r86_",
        "colab_type": "text"
      },
      "cell_type": "markdown",
      "source": [
        "## Bilder Ansehen\n",
        "\n",
        "Nachdem der Stiltransfer ohne Fehler durchgelaufen ist, könnt ihr Euch hier die Bilder ansehen."
      ]
    },
    {
      "metadata": {
        "id": "dr12ukjYr87D",
        "colab_type": "code",
        "cellView": "form",
        "colab": {}
      },
      "cell_type": "code",
      "source": [
        "#@title Inhaltsbilder ansehen\n",
        "# Get all content images\n",
        "cols = 3\n",
        "basewidth=20\n",
        "cfiles = os.listdir(path=os.path.join(DIR, EXP_CONTENT))\n",
        "#print(\"{},{}\".format(basewidth,len(files)/cols*basewidth))\n",
        "plt.figure(num=1, figsize=(basewidth,len(cfiles)/(cols*cols)*basewidth))\n",
        "pind = 1\n",
        "for fi in cfiles:\n",
        "    path = os.path.join(DIR, EXP_CONTENT, fi)\n",
        "    # print(path)\n",
        "    im = load_img(path_to_img=path).astype('uint8')    \n",
        "    plt.subplot(np.ceil(len(cfiles)/cols),cols,pind)\n",
        "    imshow(im,title=fi)\n",
        "    pind = pind + 1\n",
        "    \n",
        "print(\"Die Bilder, die im Stil gewandelt werden\")"
      ],
      "execution_count": 0,
      "outputs": []
    },
    {
      "metadata": {
        "id": "B327ydjkr87G",
        "colab_type": "code",
        "cellView": "form",
        "colab": {}
      },
      "cell_type": "code",
      "source": [
        "#@title Stilbilder ansehen\n",
        "# Get all style images\n",
        "basewidth=20\n",
        "sfiles = os.listdir(path=os.path.join(DIR, EXP_STYLE))\n",
        "cols = len(sfiles)+1\n",
        "#print(\"{},{}\".format(basewidth,len(files)/cols*basewidth))\n",
        "plt.figure(num=1, figsize=(basewidth,len(sfiles)/(cols*cols)*basewidth))\n",
        "plt.subplot(np.ceil(len(sfiles)/cols),cols,1)\n",
        "plt.plot(np.arange(10), np.arange(10), label='linear')\n",
        "plt.axis('off')\n",
        "\n",
        "pind = 2\n",
        "sfiles.sort()\n",
        "for fi in sfiles:\n",
        "    path = os.path.join(DIR, EXP_STYLE, fi)\n",
        "    # print(path)\n",
        "    im = load_img(path_to_img=path).astype('uint8')    \n",
        "    plt.subplot(np.ceil(len(sfiles)/cols),cols,pind)\n",
        "    imshow(im,title=fi)\n",
        "    pind = pind + 1\n",
        "    \n",
        "print(\"Die Bilder, deren Stil angewandt wird\")"
      ],
      "execution_count": 0,
      "outputs": []
    },
    {
      "metadata": {
        "id": "iHyKeDh2r87Q",
        "colab_type": "code",
        "cellView": "form",
        "colab": {}
      },
      "cell_type": "code",
      "source": [
        "#@title Bilder mit übertragenem Stil ansehen\n",
        "# Stylized Images\n",
        "cols = 3\n",
        "basewidth=20\n",
        "files = os.listdir(path=os.path.join(OUTDIR))\n",
        "#print(\"{},{}\".format(basewidth,len(files)/cols*basewidth))\n",
        "plt.figure(num=1, figsize=(basewidth,len(cfiles)/(len(sfiles)+1)*basewidth))\n",
        "pind = 1\n",
        "files.sort()\n",
        "for fi in files:\n",
        "    path = os.path.join(OUTDIR, fi)\n",
        "    # print(path)\n",
        "    im = load_img(path_to_img=path).astype('uint8')    \n",
        "    plt.subplot(len(cfiles)+1,len(sfiles)+1,pind)\n",
        "    imshow(im,title=fi)\n",
        "    pind = pind + 1\n",
        "    \n",
        "print(\"Die im Stil gewandelten Bilder:\")"
      ],
      "execution_count": 0,
      "outputs": []
    },
    {
      "metadata": {
        "id": "fyOsDJCxC2Op",
        "colab_type": "code",
        "cellView": "form",
        "colab": {}
      },
      "cell_type": "code",
      "source": [
        "#@title Alle Bilder als Zip-File herunterladen\n",
        "\n",
        "!zip output.zip output/*\n",
        "from google.colab import files\n",
        "files.download(\"output.zip\")\n"
      ],
      "execution_count": 0,
      "outputs": []
    }
  ]
}