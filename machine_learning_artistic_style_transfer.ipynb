{
  "nbformat": 4,
  "nbformat_minor": 0,
  "metadata": {
    "colab": {
      "name": "machine-learning-artistic-style-transfer.ipynb",
      "version": "0.3.2",
      "provenance": [],
      "private_outputs": true,
      "collapsed_sections": [],
      "include_colab_link": true
    },
    "kernelspec": {
      "name": "python3",
      "display_name": "Python 3"
    },
    "accelerator": "GPU"
  },
  "cells": [
    {
      "cell_type": "markdown",
      "metadata": {
        "id": "view-in-github",
        "colab_type": "text"
      },
      "source": [
        "<a href=\"https://colab.research.google.com/github/shellerbrand/machine-learning-for-artistic-style/blob/master/machine_learning_artistic_style_transfer.ipynb\" target=\"_parent\"><img src=\"https://colab.research.google.com/assets/colab-badge.svg\" alt=\"Open In Colab\"/></a>"
      ]
    },
    {
      "metadata": {
        "id": "KxYzWnjJr86x",
        "colab_type": "text"
      },
      "cell_type": "markdown",
      "source": [
        "# Neue Werke alter Meister - Transfer von Bildstilen mit Neuronalen Netzen\n",
        "\n",
        "Das Erkennen von Objekten ist eine Aufgabe, die der Mensch ausgezeichnet beherrscht. Auch Computer sind inzwischen mit Hilfe von künstlichen neuronalen Netzen in der Lage, diese Aufgabe in spezifischen Fällen sehr zuverlässig zu erledigen.\n",
        "\n",
        "Besonders leistungsfähig is hierbei die Klasse der [Convolutional Neural Networks](https://de.wikipedia.org/wiki/Convolutional_Neural_Network) (ConvNets). Diese Netze bestehen aus einer Folge von Schichten. Die Ausgänge der ersten Schichten entsprechen dabei der Bildzusammensetzung auf Pixel-Ebene, wohingegen die Ausgänge späterer Schichten immer großflächigere Zusammenhänge beschreiben.\n",
        "\n",
        "Ein Forschungsteam aus Tübingen [hat gezeigt](https://arxiv.org/abs/1508.06576) , dass sich der Stil eines Gemäldes gut über die Aktivierung der früheren Schichten eines ConvNets beschreiben lässt. Sie haben außerdem gezeigt, wie man ein Bild erzeugen kann, das dem Inhalt eines bestimmten Bildes (__Inhaltsbild__) und dem Stil eines anderen Bildes (__Stilbild__) entspricht.\n",
        "\n",
        "<img src=\"https://github.com/shellerbrand/machine-learning-for-artistic-style/raw/master/resources/vgg-convnet-inhalt-und-stil.jpg\" alt=\"Convolutional Neural Network\" width=\"700\"/>\n",
        "\n",
        "__Mit diesem Notebook kann man mit diesem neuralen Stil-Transfer experimentieren.__\n",
        "\n",
        "Das Beispiel wurde im Rahmen des Blockseminars [Lernen, wie Maschinen lernen](https://www.mzl.uni-muenchen.de/lehramtpro/programm/Lernen_-wie-Maschinen-lernen/index.html) erstellt. Wir benutzen dabei unter anderem modifizierten Code aus dem Repository des Projekts [Google Magenta](https://github.com/tensorflow/magenta), der dem Verfahren von [Ghiasi et al.](https://arxiv.org/abs/1705.06830) entspricht.\n"
      ]
    },
    {
      "metadata": {
        "id": "52Um4cugyInh",
        "colab_type": "text"
      },
      "cell_type": "markdown",
      "source": [
        "---\n",
        "\n",
        "## Vorarbeiten\n",
        "\n",
        "Diese Schritte müssen nur einmal ausgeführt werden."
      ]
    },
    {
      "metadata": {
        "id": "5tbnXXX2sNYx",
        "colab_type": "code",
        "cellView": "form",
        "colab": {}
      },
      "cell_type": "code",
      "source": [
        "#@title Die benötigten Modelle und den Stil-Transfer Code in die Umgebung kopieren.\n",
        "!curl https://raw.githubusercontent.com/shellerbrand/machine-learning-for-artistic-style/master/dist/stylization-lib.tar.gz -o image-stylization-lib.tar.gz\n",
        "# The Model can be downloaded as per Google Magenta project\n",
        "!curl https://storage.googleapis.com/download.magenta.tensorflow.org/models/arbitrary_style_transfer.tar.gz -o image-stylization-checkpoint.tar.gz\n",
        "!tar -zxvf image-stylization-lib.tar.gz\n",
        "!tar -zxvf image-stylization-checkpoint.tar.gz"
      ],
      "execution_count": 0,
      "outputs": []
    },
    {
      "metadata": {
        "id": "8HPnqEClr86y",
        "colab_type": "code",
        "cellView": "form",
        "colab": {}
      },
      "cell_type": "code",
      "source": [
        "#@title Hilfs-Funktionen laden (werden für Laden und Anzeigen der Bilder benötigt)\n",
        "\n",
        "# \n",
        "# Funktionen um Bilder zu laden vom Image-Upload Tool\n",
        "#\n",
        "\n",
        "print('Laden von Funktionen zum Laden der Stil und Inhaltsbilder.')\n",
        "\n",
        "import requests\n",
        "import os\n",
        "import shutil\n",
        "\n",
        "HOST = 'https://imageupload.hellerbit.com'\n",
        "API_KEY = 'bce8a814f0b3882ac6f2810464128b42dbfee105e1ba84311a77b3f4'\n",
        "DIR = './tmp/'\n",
        "EXP_CONTENT = '2_inhalt'\n",
        "EXP_STYLE = '2_stil'\n",
        "OUTDIR = './output/'\n",
        "\n",
        "\n",
        "if not os.path.isdir(DIR):\n",
        "    print('Making the directory: {}'.format(DIR))\n",
        "    os.makedirs(DIR)\n",
        "\n",
        "def clear_output():\n",
        "    if os.path.isdir(OUTDIR):\n",
        "        shutil.rmtree(OUTDIR)\n",
        "        os.mkdir(OUTDIR)\n",
        "\n",
        "def clear_experiment(experiment_id):\n",
        "    expdir = os.path.join(DIR, experiment_id)\n",
        "    if os.path.isdir(expdir):\n",
        "        shutil.rmtree(expdir)\n",
        "\n",
        "def download_experiment_images(experiment_id):\n",
        "    url = ''.join([HOST, '/api/{}/all.txt'.format(experiment_id)])\n",
        "    headers = {'APIKEY': API_KEY}\n",
        "    resp = requests.get(url, headers=headers)\n",
        "\n",
        "    print(resp.text)\n",
        "    files = resp.text.split('\\n')\n",
        "    # Make the directory for the experiment\n",
        "    expdir = os.path.join(DIR, experiment_id)\n",
        "    if not os.path.isdir(expdir):\n",
        "            os.makedirs(expdir)\n",
        "\n",
        "    for line in files:\n",
        "        print(\"Loading this file: {}\".format(line))\n",
        "        url = ''.join([HOST, '/api/{}/{}'.format(experiment_id, line)])\n",
        "        path = os.path.join(expdir, line)\n",
        "        print(\"\\t from URL {}\".format(url))\n",
        "        r = requests.get(url, stream=True, headers=headers)\n",
        "        if r.status_code == 200:\n",
        "            with open(path, 'wb') as f:\n",
        "                for chunk in r:\n",
        "                    f.write(chunk)\n",
        "                    \n",
        "#\n",
        "# Funktionen zur Anzeige von Bildern laden\n",
        "#\n",
        "\n",
        "print('Laden von Funktionen zum Anzeigen von Bildern.')\n",
        "# Configuration of matplotlib\n",
        "import matplotlib.pyplot as plt\n",
        "import matplotlib as mpl\n",
        "mpl.rcParams['figure.figsize'] = (10,10)\n",
        "mpl.rcParams['axes.grid'] = False\n",
        "\n",
        "# python image library, numpy etc.\n",
        "import numpy as np\n",
        "from PIL import Image\n",
        "import time\n",
        "import functools\n",
        "\n",
        "from tensorflow.python.keras.preprocessing import image as kp_image\n",
        "\n",
        "# Helper function for loading images from a path\n",
        "def load_img(path_to_img):\n",
        "  max_dim = 1024\n",
        "  img = Image.open(path_to_img)\n",
        "  long = max(img.size)\n",
        "  scale = max_dim/long\n",
        "  img = img.resize((round(img.size[0]*scale), round(img.size[1]*scale)), \n",
        "                   Image.ANTIALIAS)\n",
        "  \n",
        "  img = kp_image.img_to_array(img)\n",
        "  \n",
        "  # We need to broadcast the image array such that it has a batch dimension \n",
        "  img = np.expand_dims(img, axis=0)\n",
        "  return img\n",
        "\n",
        "# Helper function for showing an image object (as per PIL)\n",
        "def imshow(img, title=None):\n",
        "  # Remove the batch dimension\n",
        "  out = np.squeeze(img, axis=0)\n",
        "  # Normalize for display \n",
        "  out = out.astype('uint8')\n",
        "  plt.imshow(out)\n",
        "  if title is not None:\n",
        "    plt.title(title)\n",
        "  plt.axis('off')\n",
        "  plt.imshow(out)\n",
        "  \n",
        "\n",
        "print('Erledigt.')"
      ],
      "execution_count": 0,
      "outputs": []
    },
    {
      "metadata": {
        "id": "9K7v2hAAr862",
        "colab_type": "text"
      },
      "cell_type": "markdown",
      "source": [
        "---\n",
        "\n",
        "\n",
        "## Bilder Hochladen\n",
        "\n",
        "Im Folgenden werden die Bilder importiert, die für den Stil-Transfer verwendet werden sollen. Ihr könnt anpassen, welche Bilder als Vorlage für den Stil dienen sollen. Diese __Stilbilder__  könnt Ihr z.B. mit dem Handy auf folgendem Link hochladen:\n",
        "\n",
        "https://imageupload.hellerbit.com/images/2_stil/\n",
        "\n",
        "Die __Inhaltsbilder__, auf die der Stil angewandt wird, können auf \n",
        "\n",
        "https://imageupload.hellerbit.com/images/2_inhalt/\n",
        "\n",
        "hochgeladen werden.\n"
      ]
    },
    {
      "metadata": {
        "id": "w8toep0Kr862",
        "colab_type": "text"
      },
      "cell_type": "markdown",
      "source": [
        "<img src=\"https://github.com/shellerbrand/machine-learning-for-artistic-style/raw/master/resources/iphone_upload_tool_list.png\" width=\"300\" style=\"float:right;\">\n",
        "\n",
        "Nun bitte den Schlüssel eingeben, mit dem die Bilder geladen werden. Wenn  Bilder hochgeladen wurden, dann sollte man diese Zelle laufen lassen."
      ]
    },
    {
      "metadata": {
        "id": "_kyOe2cXr864",
        "colab_type": "code",
        "cellView": "form",
        "colab": {}
      },
      "cell_type": "code",
      "source": [
        "#@title Den Schlüssel zum Download der Bilder hier eingeben\n",
        "API_KEY = \"3c7f5f9a4d227972f0989cb7c1be7ad0835990d03f84ed8efbae839a\" #@param {type:\"string\"}\n",
        "clear_experiment(EXP_CONTENT)\n",
        "clear_experiment(EXP_STYLE)\n",
        "clear_output()\n",
        "download_experiment_images(EXP_CONTENT)\n",
        "download_experiment_images(EXP_STYLE)"
      ],
      "execution_count": 0,
      "outputs": []
    },
    {
      "metadata": {
        "id": "5wptVGUt7Zze",
        "colab_type": "text"
      },
      "cell_type": "markdown",
      "source": [
        "## Bildstile Übertragen\n",
        "\n",
        "Jetzt können die Bildstile übertragen werden. \n",
        "\n",
        "Für jedes __Stilbild__ wird zunächst ein Vektor S ermittelt, der den Stil des Bildes beschreibt. Im Anschluss wird dieser Vektor an das Stiltransfer-Netz übergeben, das diesen Stil dem __Inhaltsbild__ aufprägt.\n",
        "\n",
        "<img src=\"https://github.com/shellerbrand/machine-learning-for-artistic-style/raw/master/resources/netze-fuer-analyse-und-transfer.jpg\" alt=\"Convolutional Neural Network\" width=\"700\"/>\n",
        "\n",
        "Die Netze, die in unserem Beispiel benutzt werden, wurden von Google im Projekt Magenta bereits vortrainiert. Man kann sich das so vorstellen, dass das Netz für die Stil-Analyse bereits zehntausende Bilder angesehen hat. Deshalb kann es den Stil auch für Bilder beschreiben, die es zuvor noch nicht gesehen hat. In ähnlicher Weise wurde das Stil-Transfer Netzwerk mit sehr vielen Bildern dafür trainiert, einen Stil auf ein Inhaltsbild zu übertragen.\n",
        "\n",
        "Die beiden vortrainierten Netze werden nun für alle Kombinationen der __Stil-__ und __Inhaltsbilder__, die im vorherigen Schritt hochgeladen wurden, angewendet.\n"
      ]
    },
    {
      "metadata": {
        "scrolled": true,
        "id": "iXlSva7Hr867",
        "colab_type": "code",
        "cellView": "form",
        "colab": {}
      },
      "cell_type": "code",
      "source": [
        "#@title Umwandlung starten\n",
        "from lib.arbitrary_image_stylization_with_weights_func import arbitrary_stylization_with_weights, StyleTransferConfig\n",
        "# from lib.arbitrary_image_stylization_with_weights import main as dostyle\n",
        "import tensorflow as tf\n",
        "\n",
        "c = StyleTransferConfig()\n",
        "c.content_images_paths = os.path.join(DIR,'2_inhalt/*')\n",
        "c.output_dir = OUTDIR\n",
        "c.style_images_paths = os.path.join(DIR,'2_stil/*')\n",
        "c.checkpoint = './arbitrary_style_transfer/model.ckpt'\n",
        "c.image_size = 512\n",
        "c.style_image_size = 256\n",
        "print(c)\n",
        "\n",
        "with tf.device('/gpu:0'):\n",
        "  arbitrary_stylization_with_weights(c)\n",
        "\n",
        "print(\"\\nErledigt.\")"
      ],
      "execution_count": 0,
      "outputs": []
    },
    {
      "metadata": {
        "id": "PpHk--79r86_",
        "colab_type": "text"
      },
      "cell_type": "markdown",
      "source": [
        "## Bilder ansehen\n",
        "\n",
        "Nachdem der Stiltransfer ohne Fehler durchgelaufen ist, könnt ihr Euch hier die Bilder ansehen."
      ]
    },
    {
      "metadata": {
        "id": "dr12ukjYr87D",
        "colab_type": "code",
        "cellView": "form",
        "colab": {}
      },
      "cell_type": "code",
      "source": [
        "#@title Inhaltsbilder ansehen\n",
        "# Get all content images\n",
        "cols = 3\n",
        "basewidth=20\n",
        "cfiles = os.listdir(path=os.path.join(DIR, EXP_CONTENT))\n",
        "#print(\"{},{}\".format(basewidth,len(files)/cols*basewidth))\n",
        "plt.figure(num=1, figsize=(basewidth,len(cfiles)/(cols*cols)*basewidth))\n",
        "pind = 1\n",
        "for fi in cfiles:\n",
        "    path = os.path.join(DIR, EXP_CONTENT, fi)\n",
        "    # print(path)\n",
        "    im = load_img(path_to_img=path).astype('uint8')    \n",
        "    plt.subplot(np.ceil(len(cfiles)/cols),cols,pind)\n",
        "    imshow(im,title=fi)\n",
        "    pind = pind + 1\n",
        "    \n",
        "print(\"Die Bilder, die im Stil gewandelt werden\")"
      ],
      "execution_count": 0,
      "outputs": []
    },
    {
      "metadata": {
        "id": "B327ydjkr87G",
        "colab_type": "code",
        "cellView": "form",
        "colab": {}
      },
      "cell_type": "code",
      "source": [
        "#@title Stilbilder ansehen\n",
        "# Get all style images\n",
        "basewidth=20\n",
        "sfiles = os.listdir(path=os.path.join(DIR, EXP_STYLE))\n",
        "cols = len(sfiles)+1\n",
        "#print(\"{},{}\".format(basewidth,len(files)/cols*basewidth))\n",
        "plt.figure(num=1, figsize=(basewidth,len(sfiles)/(cols*cols)*basewidth))\n",
        "plt.axis('off')\n",
        "\n",
        "pind = 1\n",
        "sfiles.sort()\n",
        "for fi in sfiles:\n",
        "    path = os.path.join(DIR, EXP_STYLE, fi)\n",
        "    # print(path)\n",
        "    im = load_img(path_to_img=path).astype('uint8')    \n",
        "    plt.subplot(np.ceil(len(sfiles)/cols),cols,pind)\n",
        "    imshow(im,title=fi)\n",
        "    pind = pind + 1\n",
        "    \n",
        "print(\"Die Bilder, deren Stil angewandt wird\")"
      ],
      "execution_count": 0,
      "outputs": []
    },
    {
      "metadata": {
        "id": "iHyKeDh2r87Q",
        "colab_type": "code",
        "cellView": "form",
        "colab": {}
      },
      "cell_type": "code",
      "source": [
        "#@title Bilder mit übertragenem Stil ansehen\n",
        "# Stylized Images\n",
        "from re import match\n",
        "\n",
        "cols = 3\n",
        "basewidth=20\n",
        "files = os.listdir(path=os.path.join(OUTDIR))\n",
        "files = [x for x in files if match('^zzResult.*',x)]\n",
        "#print(\"{},{}\".format(basewidth,len(files)/cols*basewidth))\n",
        "plt.figure(num=1, figsize=(basewidth,len(cfiles)/(len(sfiles)+1)*basewidth))\n",
        "pind = 1\n",
        "files.sort()\n",
        "for fi in files:\n",
        "    path = os.path.join(OUTDIR, fi)\n",
        "    # print(path)\n",
        "    im = load_img(path_to_img=path).astype('uint8')    \n",
        "    plt.subplot(len(cfiles)+1,len(sfiles)+1,pind)\n",
        "    imshow(im,title=fi)\n",
        "    pind = pind + 1\n",
        "    \n",
        "print(\"Die im Stil gewandelten Bilder:\")"
      ],
      "execution_count": 0,
      "outputs": []
    },
    {
      "metadata": {
        "id": "fyOsDJCxC2Op",
        "colab_type": "code",
        "cellView": "form",
        "colab": {}
      },
      "cell_type": "code",
      "source": [
        "#@title Alle Bilder als Zip-File herunterladen\n",
        "\n",
        "!zip output.zip output/*\n",
        "from google.colab import files\n",
        "files.download(\"output.zip\")\n"
      ],
      "execution_count": 0,
      "outputs": []
    },
    {
      "metadata": {
        "id": "vB8asjdgwOxK",
        "colab_type": "text"
      },
      "cell_type": "markdown",
      "source": [
        "---\n",
        "\n",
        "## Referenzen\n",
        "\n",
        "* Gatys, L. et al; A Neural Algorithm of Artistic Style, Sep 2015, [arxiv](https://arxiv.org/abs/1508.06576)\n",
        "* Google Magenta: Fast Style Transfer for Arbitrary Styles, [Github](https://github.com/tensorflow/magenta/blob/2c3ae9b0dd64b06295e48e2ee5654e3d207035fc/magenta/models/arbitrary_image_stylization/README.md)  \n",
        "* Ghiasi, G. et al.; \n",
        "Exploring the structure of a real-time, arbitrary neural artistic stylization network\n",
        "Golnaz Ghiasi, Aug 2017, [arxiv](https://arxiv.org/abs/1705.06830)\n",
        "\n",
        "Der Source-Code für dieses Notebook und das Tool zum Bilder hochladen sind bzw. werden hier veröffentlicht:\n",
        "https://github.com/shellerbrand/machine-learning-for-artistic-style\n"
      ]
    }
  ]
}